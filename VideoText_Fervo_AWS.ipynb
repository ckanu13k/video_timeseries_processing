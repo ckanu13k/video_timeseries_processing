{
  "nbformat": 4,
  "nbformat_minor": 0,
  "metadata": {
    "colab": {
      "provenance": []
    },
    "kernelspec": {
      "name": "python3",
      "display_name": "Python 3"
    },
    "language_info": {
      "name": "python"
    }
  },
  "cells": [
    {
      "cell_type": "markdown",
      "source": [
        "This is the solution to Fervo Energy Interview video timeseries problem"
      ],
      "metadata": {
        "id": "-v94uQeK9ip8"
      }
    },
    {
      "cell_type": "code",
      "execution_count": null,
      "metadata": {
        "colab": {
          "base_uri": "https://localhost:8080/"
        },
        "id": "UjgbN7QP9czy",
        "outputId": "4818c601-9408-4b6e-e925-7f7d332444f9"
      },
      "outputs": [
        {
          "output_type": "stream",
          "name": "stdout",
          "text": [
            "Reading package lists...\n",
            "Building dependency tree...\n",
            "Reading state information...\n",
            "The following additional packages will be installed:\n",
            "  tesseract-ocr-eng tesseract-ocr-osd\n",
            "The following NEW packages will be installed:\n",
            "  tesseract-ocr tesseract-ocr-eng tesseract-ocr-osd\n",
            "0 upgraded, 3 newly installed, 0 to remove and 16 not upgraded.\n",
            "Need to get 4,816 kB of archives.\n",
            "After this operation, 15.6 MB of additional disk space will be used.\n",
            "Get:1 http://archive.ubuntu.com/ubuntu jammy/universe amd64 tesseract-ocr-eng all 1:4.00~git30-7274cfa-1.1 [1,591 kB]\n",
            "Get:2 http://archive.ubuntu.com/ubuntu jammy/universe amd64 tesseract-ocr-osd all 1:4.00~git30-7274cfa-1.1 [2,990 kB]\n",
            "Get:3 http://archive.ubuntu.com/ubuntu jammy/universe amd64 tesseract-ocr amd64 4.1.1-2.1build1 [236 kB]\n",
            "Fetched 4,816 kB in 2s (1,950 kB/s)\n",
            "debconf: unable to initialize frontend: Dialog\n",
            "debconf: (No usable dialog-like program is installed, so the dialog based frontend cannot be used. at /usr/share/perl5/Debconf/FrontEnd/Dialog.pm line 78, <> line 3.)\n",
            "debconf: falling back to frontend: Readline\n",
            "debconf: unable to initialize frontend: Readline\n",
            "debconf: (This frontend requires a controlling tty.)\n",
            "debconf: falling back to frontend: Teletype\n",
            "dpkg-preconfigure: unable to re-open stdin: \n",
            "Selecting previously unselected package tesseract-ocr-eng.\n",
            "(Reading database ... 120828 files and directories currently installed.)\n",
            "Preparing to unpack .../tesseract-ocr-eng_1%3a4.00~git30-7274cfa-1.1_all.deb ...\n",
            "Unpacking tesseract-ocr-eng (1:4.00~git30-7274cfa-1.1) ...\n",
            "Selecting previously unselected package tesseract-ocr-osd.\n",
            "Preparing to unpack .../tesseract-ocr-osd_1%3a4.00~git30-7274cfa-1.1_all.deb ...\n",
            "Unpacking tesseract-ocr-osd (1:4.00~git30-7274cfa-1.1) ...\n",
            "Selecting previously unselected package tesseract-ocr.\n",
            "Preparing to unpack .../tesseract-ocr_4.1.1-2.1build1_amd64.deb ...\n",
            "Unpacking tesseract-ocr (4.1.1-2.1build1) ...\n",
            "Setting up tesseract-ocr-eng (1:4.00~git30-7274cfa-1.1) ...\n",
            "Setting up tesseract-ocr-osd (1:4.00~git30-7274cfa-1.1) ...\n",
            "Setting up tesseract-ocr (4.1.1-2.1build1) ...\n",
            "Processing triggers for man-db (2.10.2-1) ...\n"
          ]
        }
      ],
      "source": [
        "#!sudo apt -q install tesseract-ocr\n",
        "!pip -q install pytesseract"
      ]
    },
    {
      "cell_type": "code",
      "source": [
        "lambda_name        = \"VideoProcessing\"             # Name of the Lambda function to invoke\n",
        "results_bucket     = \"video-results-obinnak\"                    # Bucket to use\n",
        "results_folder    = \"cpu_df\"  # Subfolder to place the calculation results\n",
        "concurrent_lambdas = 100\n",
        "\n",
        "source_bucket   = 'obinnak-public'    # S3 bucket name with input data\n",
        "source_folder   = 'data'         # Folder path, sometimes referred to as the prefix\n",
        "source_filename = 'Test_Video.mp4' # Filename\n"
      ],
      "metadata": {
        "id": "LOm89m86yPXS"
      },
      "execution_count": null,
      "outputs": []
    },
    {
      "cell_type": "code",
      "source": [
        "# Get S3 object\n",
        "data_obj = s3.Object(source_bucket, f\"{source_folder}/{source_filename}\")\n",
        "\n",
        "# Define some needed variables based off the above parameters\n",
        "start_time = time.time()\n",
        "\n",
        "results_file_list = [] # Lets keep track of the output file names, so we can grab them later\n",
        "\n",
        "lambda_client = boto3.client('lambda')\n",
        "\n",
        "# Build the message for the Lambda to find the video file\n",
        "payload = {\n",
        "    \"bucket_in\"          : source_bucket,\n",
        "    \"folder_in\"          : source_folder,\n",
        "    \"filename_in\"        : source_filename,\n",
        "    \"bucket_out\"         : results_bucket,\n",
        "    \"folder_out\"         : results_folder,\n",
        "    \"is_gpu\"         : is_gpu\n",
        "    }\n",
        "\n",
        "# Invoke the Lambda SegyBatchProcessMeanAmp\n",
        "response = lambda_client.invoke(FunctionName=lambda_name,\n",
        "                                InvocationType='Event',\n",
        "                                Payload=json.dumps(payload))\n",
        "\n",
        "results_file_list.append(f\"{results_folder}/{source_filename}.pkl\")\n",
        "\n",
        "print(\"Done!  Elapse time to gather send to and processing on Lambda: {:0.2f} seconds.  Now waiting for 80 seconds.\".format(time.time() - start_time))\n",
        "\n",
        "time.sleep(80)      # Waiting before carrying on next steps, to allow time for Lambda to finish."
      ],
      "metadata": {
        "id": "wICmal8AypUQ"
      },
      "execution_count": null,
      "outputs": []
    },
    {
      "cell_type": "code",
      "source": [
        "s3_client = boto3.client('s3')\n",
        "# Get file from S3, convert from Pickle format\n",
        "object = s3_client.get_object(Bucket=results_bucket, Key=results_file_list[x])\n",
        "\n",
        "serializedObject = object['Body'].read()\n",
        "results_bundle_temp = pickle.loads(serializedObject)"
      ],
      "metadata": {
        "id": "G1B_zPb30egX"
      },
      "execution_count": null,
      "outputs": []
    }
  ]
}
